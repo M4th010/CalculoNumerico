{
  "nbformat": 4,
  "nbformat_minor": 0,
  "metadata": {
    "colab": {
      "provenance": []
    },
    "kernelspec": {
      "name": "python3",
      "display_name": "Python 3"
    },
    "language_info": {
      "name": "python"
    }
  },
  "cells": [
    {
      "cell_type": "markdown",
      "source": [
        "1. Calcule o comprimento do cabo (C) entre duas torres de transmissão (i.e. a catenária). A distância entre as torres é de d = 500m. A flecha máxima permitida é permitida é fmax = 50m. Flecha é a distância vertical\n",
        "entre uma reta que liga os dois pontos de fixação. A flecha (f) depende\n",
        "do comprimento do  vão(d) e da tração (C) aplicada ao cabo. O seu modelo matemático pode ser:\n",
        "f = C. [cosh(d/2.C)-1]\n",
        "Resposta: 633, 1621m\n"
      ],
      "metadata": {
        "id": "dAMs6RH-0VR9"
      }
    },
    {
      "cell_type": "code",
      "execution_count": 3,
      "metadata": {
        "colab": {
          "base_uri": "https://localhost:8080/"
        },
        "id": "Iy7-tWiFehAF",
        "outputId": "b0830a7d-721d-4caa-d367-aee6bba08a87"
      },
      "outputs": [
        {
          "output_type": "stream",
          "name": "stdout",
          "text": [
            "raíz aprox 633.1623\n",
            "O número de iterações foi 9\n"
          ]
        }
      ],
      "source": [
        " import math \n",
        "\n",
        "def f(C,     # Comprimento do cabo\n",
        "      d=500, # Distância entre as torres \n",
        "      fmax=50): #Flecha máxima\n",
        "\n",
        "    return (C*(math.cosh(d/(2*C))-1))-fmax\n",
        "\n",
        "def bisseccao(x1,  # x1 início do intervalo\n",
        "              x2,  # x2 fim do intervalo\n",
        "              TOL,  # erro tolerado\n",
        "              iter=50):  # número máximo de iterações\n",
        "    \n",
        "    hp = (x1 + x2)/2  # Ponto médio entre os valores x1 e x2\n",
        "    if f(x1) * f(x2) > 0:\n",
        "        print(\"Nenhuma raíz encontrada.\")  # nenhuma raíz\n",
        "        return 0\n",
        "    else:\n",
        "        c = 0  # variável contador\n",
        "        ERRO = abs(f(x2) - f(x1))  # diferença entre os valores de y\n",
        "        while ERRO > TOL or c > iter:  # loop iterativo com critérios de parada\n",
        "            hp = (x1 + x2) / 2.0\n",
        "            if f(hp) == 0:\n",
        "                return [hp, c]\n",
        "            elif f(x1) * f(hp) < 0:\n",
        "                x2 = hp\n",
        "                c += 1  # contagem\n",
        "            else:\n",
        "                x1 = hp\n",
        "            ERRO = abs(f(x2) - f(x1))\n",
        "        return {\"hp\": hp, \"iteração\": c}  # raíz da função; número de iterações\n",
        "\n",
        "resp = bisseccao(x1=500, x2=650, TOL=0.0001)\n",
        "try:\n",
        "    print(f'raíz aprox {resp[\"hp\"]:.4f}')\n",
        "    print(f'O número de iterações foi {resp[\"iteração\"]}')\n",
        "except:\n",
        "    print('Raiz não encontrada')"
      ]
    },
    {
      "cell_type": "markdown",
      "source": [
        "2. Um retificador de meia onda a diodo alimenta uma carga indutiva resistiva (f = 1 kHz, L = 100 mH e R = 1 kΩ). Encontre o ângulo para o qual a corrente Id no diodo se anula. Considere o seguinte modelo matemático:\n",
        "Id=sin(β − φ)+sin(φ)e^(−β/tan(φ))\n",
        "tan(φ) = 2πf.L/R\n",
        "resposta:β = 212, 2284\n",
        "\n",
        "\n"
      ],
      "metadata": {
        "id": "SZXQA_V20R2d"
      }
    },
    {
      "cell_type": "code",
      "source": [
        "import math as m\n",
        "from scipy.misc import derivative\n",
        "import numpy as np\n",
        "\n",
        "\n",
        "def f(beta, #β\n",
        "      Id = 0,  # Corrente no diodo (A)\n",
        "      fr = 1000, # Frequência(kHertz)\n",
        "      L = 0.100, # Indutância (mH)\n",
        "      R = 1000):  # Resistência (Ohms)\n",
        "    \n",
        "    tanfi = 2*m.pi*fr*L/R\n",
        "    fi = m.atan(tanfi)\n",
        "    fi = m.degrees(fi)\n",
        "    return m.sin(m.radians(beta-fi))+(m.sin(m.degrees(fi))*m.exp(-beta/tanfi))\n",
        "\n",
        "\n",
        "def d(x):\n",
        "    return derivative(f, x)  # derivada função da SciPY\n",
        "\n",
        "\n",
        "def newtonRaphson(x,  # x inicial\n",
        "                maxit=50,  # número máximo de iterações  \n",
        "                TOL=0.0001):  # erro tolerado\n",
        "    \n",
        "    a = f(x) / d(x)\n",
        "    iter = 0\n",
        "    while abs(a) > TOL and iter < maxit:  # critério de parada \n",
        "        a = f(x) / d(x)\n",
        "        # x(i+1) = x(i) - f(x) / f'(x)\n",
        "        x = x - a\n",
        "        iter += 1\n",
        "    return [x, iter]\n",
        "\n",
        "\n",
        "# Exemplo\n",
        "x0 = 220 # Valor inicial\n",
        "ans = newtonRaphson(x0)\n",
        "raiz = ans[0]\n",
        "print(f'A raiz é {raiz:.5f}.\\n Com {ans[1]} iterações.')"
      ],
      "metadata": {
        "colab": {
          "base_uri": "https://localhost:8080/"
        },
        "id": "sqrHCXIS5CLE",
        "outputId": "44a48aeb-d621-40d1-9302-b1593f33d8fa"
      },
      "execution_count": 2,
      "outputs": [
        {
          "output_type": "stream",
          "name": "stdout",
          "text": [
            "A raiz é 212.14191.\n",
            " Com 3 iterações.\n"
          ]
        }
      ]
    },
    {
      "cell_type": "markdown",
      "source": [],
      "metadata": {
        "id": "QBpEuu3b6hC_"
      }
    }
  ]
}